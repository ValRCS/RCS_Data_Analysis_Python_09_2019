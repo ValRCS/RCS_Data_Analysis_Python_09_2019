{
 "cells": [
  {
   "cell_type": "code",
   "execution_count": null,
   "metadata": {},
   "outputs": [],
   "source": [
    "# https://www.pyimagesearch.com/2017/07/10/using-tesseract-ocr-python/\n",
    "# extra https://www.learnopencv.com/deep-learning-based-text-recognition-ocr-using-tesseract-and-opencv/"
   ]
  },
  {
   "cell_type": "markdown",
   "metadata": {},
   "source": [
    "#### First Install Windows Version of Tesseract 5.0a from \n",
    "#### https://github.com/UB-Mannheim/tesseract/wiki\n",
    "#### 64bit version exe \n",
    "#### https://digi.bib.uni-mannheim.de/tesseract/tesseract-ocr-w64-setup-v5.0.0-alpha.20190708.exe"
   ]
  },
  {
   "cell_type": "code",
   "execution_count": null,
   "metadata": {},
   "outputs": [],
   "source": [
    "# https://pypi.org/project/pytesseract/\n",
    "!pip install pytesseract  "
   ]
  },
  {
   "cell_type": "code",
   "execution_count": 1,
   "metadata": {},
   "outputs": [],
   "source": [
    "# from https://github.com/madmaze/pytesseract readme.md\n",
    "try:\n",
    "    from PIL import Image\n",
    "except ImportError:\n",
    "    import Image\n",
    "import pytesseract"
   ]
  },
  {
   "cell_type": "code",
   "execution_count": 2,
   "metadata": {},
   "outputs": [],
   "source": [
    "# If you don't have tesseract executable in your PATH, include the following:\n",
    "pytesseract.pytesseract.tesseract_cmd = r'C:\\Program Files\\Tesseract-OCR\\tesseract'\n",
    "# Example tesseract_cmd = r'C:\\Program Files (x86)\\Tesseract-OCR\\tesseract'\n"
   ]
  },
  {
   "cell_type": "code",
   "execution_count": 3,
   "metadata": {},
   "outputs": [
    {
     "name": "stdout",
     "output_type": "stream",
     "text": [
      "In [4]:\n",
      "\n",
      "In [12]:\n",
      "\n",
      "dI\n",
      "\n",
      "dI\n",
      "\n",
      "# Simple image to string\n",
      "print(pytesseract.image to_string(Image.open('data/test.png')))\n",
      "\n",
      "FileNotFoundError Traceback (most recent call last)\n",
      "<ipython-input-4-cd1239dfce@7> in <module>\n",
      "\n",
      "1 # Simple image to string\n",
      "----> 2 print(pytesseract.image to_string(Image.open('data/test.png' )))\n",
      "\n",
      "C:\\ProgramData\\Anaconda3\\lib\\site-packages\\PIL\\Image.py in open(fp, mode)\n",
      "2632\n",
      "\n",
      "2633 if filename:\n",
      "\n",
      "-> 2634 fp = builtins.open(filename, \"rb\")\n",
      "2635 exclusive fp = True\n",
      "2636\n",
      "\n",
      "FileNotFoundError: [Errno 2] No such file or directory: '‘data/test.png'\n",
      "\n",
      "# Latvian text image to string\n",
      "print(pytesseract.image to_string(Image.open( 'data/test-latvian.png' )))\n",
      "\n",
      "Grozijumi Pasta likuma\n"
     ]
    }
   ],
   "source": [
    "# Simple image to string\n",
    "print(pytesseract.image_to_string(Image.open('data/clip.png')))"
   ]
  },
  {
   "cell_type": "code",
   "execution_count": 4,
   "metadata": {},
   "outputs": [
    {
     "name": "stdout",
     "output_type": "stream",
     "text": [
      "Likums Saeimā pieņemts 2019. gada 19. septembrī.\n",
      "\n",
      "Valsts prezidents\n",
      "E. Levits\n",
      "\n",
      "Rīgā 2019. gada 20. septembrī\n",
      "\n",
      "Grozījums Nr. 1 Latvijas Republikas valdības un Amerikas Savienoto Valstu valdības 2004. gada\n",
      "septembra līgumā par sadarbību tiesībaizsardzības jomā\n",
      "\n",
      "I. VISPĀRĪGIE NOTEIKUMI\n",
      "\n",
      "Latvijas Republikas valdība un Amerikas Savienoto Valstu valdība (turpmāk tekstā katra atsevišķi\n",
      "saukta par \"Pusi\" un kopā sauktas par \"Pusēm\") vienojas pārveidot un grozīt 2004. gada 27. septembrī\n",
      "parakstīto Latvijas Republikas valdības un Amerikas Savienoto Valstu valdības līgumu par sadarbību\n",
      "tiesībaizsardzības jomā (turpmāk tekstā - \"Līgums\"), atbilstoši tam, kā izklāstīts turpmāk.\n"
     ]
    }
   ],
   "source": [
    "# Latvian text image to string\n",
    "print(pytesseract.image_to_string(Image.open('data/vest.png'),lang=\"lav\"))"
   ]
  },
  {
   "cell_type": "code",
   "execution_count": 5,
   "metadata": {},
   "outputs": [
    {
     "name": "stdout",
     "output_type": "stream",
     "text": [
      "Da udſäs fabrikäs ſtrahdneeki paraduſchi fabrikas\n",
      "adminiſtrazijat un meiſiareem paſneegt dſimſchanas,\n",
      "wahrda u. 3. deenäs dahwanas. Par ſcho jautajumu\n",
      "peenemic fekoſcha reſoluzija: „Walde leek preekſchä wifeem\n",
      "beedreem atteiktees no wiſäm tamlihdſigäam dahwanu\n",
      "paſneegſc<hanam adminiſtrazijai.- Tahda altteikſchanäs\n",
      "jaiſdara zaur rakſtiſku proteſtu.“\n"
     ]
    }
   ],
   "source": [
    "# Latvian Fraktur text image to string\n",
    "print(pytesseract.image_to_string(Image.open('data/frakt.png'),lang=\"frk\"))"
   ]
  },
  {
   "cell_type": "markdown",
   "metadata": {},
   "source": [
    "### no https://lndb.wordpress.com/2008/10/08/vecajai-drukai-jauna-elpa/\n",
    "tiktu iegūts šāds saburtojums:\n",
    "\n",
    "Daudzās fabrikās strahdneeki paraduschi fabrikas administracijai un meistareem pasneegt dzimschanas, wahrda u. c. deenās dahwanas. Par scho jautajumu peeņemta sekoscha rezolucija: “Walde leek preekschā wiseem beedreem atteiktees no wisām tamlihdzigām dahwanu pasneegschanam administracijai. Tahda atteikschanās jaizdara caur rakztisku proteztu.”"
   ]
  }
 ],
 "metadata": {
  "kernelspec": {
   "display_name": "Python 3",
   "language": "python",
   "name": "python3"
  },
  "language_info": {
   "codemirror_mode": {
    "name": "ipython",
    "version": 3
   },
   "file_extension": ".py",
   "mimetype": "text/x-python",
   "name": "python",
   "nbconvert_exporter": "python",
   "pygments_lexer": "ipython3",
   "version": "3.7.3"
  }
 },
 "nbformat": 4,
 "nbformat_minor": 2
}
